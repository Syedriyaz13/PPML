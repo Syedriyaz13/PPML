{
  "nbformat": 4,
  "nbformat_minor": 0,
  "metadata": {
    "colab": {
      "provenance": []
    },
    "kernelspec": {
      "name": "python3",
      "display_name": "Python 3"
    },
    "language_info": {
      "name": "python"
    }
  },
  "cells": [
    {
      "cell_type": "code",
      "execution_count": 2,
      "metadata": {
        "colab": {
          "base_uri": "https://localhost:8080/"
        },
        "id": "8w3lu-hMfQq4",
        "outputId": "a1a56dd7-8dfc-4822-ea83-5117448296d5"
      },
      "outputs": [
        {
          "output_type": "stream",
          "name": "stdout",
          "text": [
            "       a  b  c\n",
            "one    1  2  3\n",
            "two    4  5  6\n",
            "three  7  8  9\n"
          ]
        }
      ],
      "source": [
        " import pandas as pd\n",
        " df=pd.DataFrame([[1,2,3],[4,5,6],[7,8,9]],index=['one','two','three'],columns=['a','b','c'])\n",
        " print(df)\n"
      ]
    },
    {
      "cell_type": "code",
      "source": [
        "df.to_excel(\"/content/python.xlsx\")"
      ],
      "metadata": {
        "id": "rjfhpm9Fiku5"
      },
      "execution_count": 3,
      "outputs": []
    },
    {
      "cell_type": "code",
      "source": [
        "df.to_excel(\"/content/python 2.xlsx\")"
      ],
      "metadata": {
        "id": "lLu1wJSdkPd2"
      },
      "execution_count": 4,
      "outputs": []
    },
    {
      "cell_type": "code",
      "source": [
        "df=pd.DataFrame([[10,20,30],[40,50,60],[70,80,90]],index=['four','five','six'],columns=['x','y','z'])\n",
        "df.to_excel(\"/content/python.xlsx\")\n",
        "df=pd.DataFrame([[6,8],[1,2]],index=['a','b'],columns=['x','y'])\n",
        "df.to_excel(\"/content/python 2.xlsx\")"
      ],
      "metadata": {
        "id": "4gYcdbg8pwic"
      },
      "execution_count": 5,
      "outputs": []
    },
    {
      "cell_type": "code",
      "source": [
        "x=pd.read_excel(\"/content/python.xlsx\")\n",
        "y=pd.read_excel(\"/content/python 2.xlsx\")\n",
        "z=pd.concat([x,y])\n",
        "z.to_excel(\"/content/python 3.xlsx\")"
      ],
      "metadata": {
        "id": "q8w0WTp0sFlI"
      },
      "execution_count": 6,
      "outputs": []
    },
    {
      "cell_type": "markdown",
      "source": [
        "# New section"
      ],
      "metadata": {
        "id": "c_NdPVP6jpJt"
      }
    },
    {
      "cell_type": "code",
      "source": [
        "df=z.sort_values([\"x\"])\n",
        "print(df)\n",
        "df.to_excel(\"/content/python 3.xlsx\")\n",
        "\n"
      ],
      "metadata": {
        "colab": {
          "base_uri": "https://localhost:8080/"
        },
        "id": "QNRJOKY0wCKy",
        "outputId": "c880d603-4412-4763-9405-dcd4eb330b68"
      },
      "execution_count": 7,
      "outputs": [
        {
          "output_type": "stream",
          "name": "stdout",
          "text": [
            "  Unnamed: 0   x   y     z\n",
            "1          b   1   2   NaN\n",
            "0          a   6   8   NaN\n",
            "0       four  10  20  30.0\n",
            "1       five  40  50  60.0\n",
            "2        six  70  80  90.0\n"
          ]
        }
      ]
    },
    {
      "cell_type": "code",
      "source": [
        "df=z.sort_values([\"y\"])\n",
        "print(df)\n",
        "df.to_excel(\"/content/python 3.xlsx\")"
      ],
      "metadata": {
        "colab": {
          "base_uri": "https://localhost:8080/"
        },
        "id": "Pl8hPy3cw_r3",
        "outputId": "7a1744af-b2a2-4e33-a919-e2b23eb164c7"
      },
      "execution_count": 8,
      "outputs": [
        {
          "output_type": "stream",
          "name": "stdout",
          "text": [
            "  Unnamed: 0   x   y     z\n",
            "1          b   1   2   NaN\n",
            "0          a   6   8   NaN\n",
            "0       four  10  20  30.0\n",
            "1       five  40  50  60.0\n",
            "2        six  70  80  90.0\n"
          ]
        }
      ]
    },
    {
      "cell_type": "code",
      "source": [
        "import pandas as pd\n",
        "df=pd.read_excel(\"/content/python 3.xlsx\")\n",
        "print(df)\n",
        "print(list(df))\n",
        "print(format(len(df)))"
      ],
      "metadata": {
        "colab": {
          "base_uri": "https://localhost:8080/"
        },
        "id": "CfkX5-7ZmAqQ",
        "outputId": "b8d38338-7834-419b-ab61-ed3805357067"
      },
      "execution_count": 9,
      "outputs": [
        {
          "output_type": "stream",
          "name": "stdout",
          "text": [
            "   Unnamed: 0.1 Unnamed: 0   x   y     z\n",
            "0             1          b   1   2   NaN\n",
            "1             0          a   6   8   NaN\n",
            "2             0       four  10  20  30.0\n",
            "3             1       five  40  50  60.0\n",
            "4             2        six  70  80  90.0\n",
            "['Unnamed: 0.1', 'Unnamed: 0', 'x', 'y', 'z']\n",
            "5\n"
          ]
        }
      ]
    }
  ]
}