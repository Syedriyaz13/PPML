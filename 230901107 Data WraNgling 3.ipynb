{
 "cells": [
  {
   "cell_type": "code",
   "execution_count": 4,
   "id": "96dfba6e-8545-46ee-a791-86bfd3e57f93",
   "metadata": {},
   "outputs": [
    {
     "name": "stdout",
     "output_type": "stream",
     "text": [
      "\n",
      " original DataFrame:\n",
      "        Brand  year  sold\n",
      "0     Maruti  2010     6\n",
      "1     Maruti  2011     7\n",
      "2     Maruti  2009     8\n",
      "3     Maruti  2013     9\n",
      "4    Hyundai  2010     3\n",
      "5    Hyundai  2011     5\n",
      "6     Toyota  2011     2\n",
      "7   Mahindra  2010     8\n",
      "8   Mahindra  2013     7\n",
      "9       Ford  2010     2\n",
      "10    Toyota  2010     4\n",
      "11      Ford  2011     2\n",
      "\n",
      " Group by year:\n",
      "        Brand  year  sold\n",
      "0     Maruti  2010     6\n",
      "4    Hyundai  2010     3\n",
      "7   Mahindra  2010     8\n",
      "9       Ford  2010     2\n",
      "10    Toyota  2010     4\n"
     ]
    }
   ],
   "source": [
    "import pandas as pd\n",
    "car_selling_data={'Brand':['Maruti','Maruti','Maruti','Maruti','Hyundai','Hyundai','Toyota','Mahindra','Mahindra','Ford','Toyota','Ford'],\n",
    "                  'year':[2010,2011,2009,2013,2010,2011,2011,2010,2013,2010,2010,2011],\n",
    "                  'sold':[6,7,8,9,3,5,2,8,7,2,4,2]}\n",
    "df=pd.DataFrame(car_selling_data)\n",
    "print(\"\\n original DataFrame:\\n\",df)\n",
    "grouped=df.groupby('year')\n",
    "print(\"\\n Group by year:\\n\",grouped.get_group(2010))"
   ]
  },
  {
   "cell_type": "code",
   "execution_count": 6,
   "id": "ac3641ff-6fed-40cb-b8fb-049007fc6c08",
   "metadata": {},
   "outputs": [
    {
     "name": "stdout",
     "output_type": "stream",
     "text": [
      "\n",
      " original DataFrame:\n",
      "      Name  Roll_no             Email\n",
      "0     ram       20     ram@gmail.com\n",
      "1    Mano       25    mano@gmail.com\n",
      "2     kio       20     kio@gmail.com\n",
      "3     rio       32     rio@gmail.com\n",
      "4    syed       69    syed@gmail.com\n",
      "5   riyaz       32   riyaz@gmail.com\n",
      "6     ash       20     ash@gmail.com\n",
      "7    Mahi       35    mahi@gmail.com\n",
      "8  afridi       69  afridi@gmail.com\n",
      "9     dil       17     dil@gmail.com\n"
     ]
    }
   ],
   "source": [
    "student_data={'Name':['ram','Mano','kio','rio','syed','riyaz','ash','Mahi','afridi','dil'],\n",
    "              'Roll_no':[20,25,20,32,69,32,20,35,69,17],\n",
    "              'Email':['ram@gmail.com','mano@gmail.com','kio@gmail.com','rio@gmail.com','syed@gmail.com','riyaz@gmail.com','ash@gmail.com','mahi@gmail.com','afridi@gmail.com','dil@gmail.com',]}\n",
    "df=pd.DataFrame(student_data)\n",
    "print(\"\\n original DataFrame:\\n\",df)\n",
    "              \n",
    "              "
   ]
  },
  {
   "cell_type": "code",
   "execution_count": 8,
   "id": "bb87ef23-8c97-42d5-b970-24b53d7e0e08",
   "metadata": {},
   "outputs": [
    {
     "name": "stdout",
     "output_type": "stream",
     "text": [
      "\n",
      " Removed duplicate rows:\n",
      "      Name  Roll_no             Email\n",
      "2     kio       20     kio@gmail.com\n",
      "5   riyaz       32   riyaz@gmail.com\n",
      "6     ash       20     ash@gmail.com\n",
      "8  afridi       69  afridi@gmail.com\n"
     ]
    }
   ],
   "source": [
    "non_duplicate=df[df.duplicated('Roll_no')]\n",
    "print(\"\\n Removed duplicate rows:\\n\",non_duplicate)"
   ]
  },
  {
   "cell_type": "code",
   "execution_count": 12,
   "id": "1021c435-76c8-4e1f-9aa2-c79ed167ba3b",
   "metadata": {},
   "outputs": [
    {
     "name": "stdout",
     "output_type": "stream",
     "text": [
      "Original DataFrame1\n",
      "     ID    Name Branch\n",
      "0  101     ram   Mech\n",
      "1  102    Mano   Mech\n",
      "2  103     kio    CSE\n",
      "3  104     rio    CSE\n",
      "4  105    syed    CSE\n",
      "5  106   riyaz    EEE\n",
      "6  107     ash    EEE\n",
      "7  108    Mahi    EEE\n",
      "8  109  afridi     IT\n",
      "9  110     dil     IT\n",
      "Original DataFrame2\n",
      "     ID Pending\n",
      "0  102    5000\n",
      "1  102     250\n",
      "2  103     NIL\n",
      "3  104    9000\n",
      "4  105   15000\n",
      "5  106     NIL\n",
      "6  107    4500\n",
      "7  108    1800\n",
      "8  109     250\n",
      "9  110     NIL\n",
      "Merged DataFrame\n",
      "     ID    Name Branch Pending\n",
      "0  102    Mano   Mech    5000\n",
      "1  102    Mano   Mech     250\n",
      "2  103     kio    CSE     NIL\n",
      "3  104     rio    CSE    9000\n",
      "4  105    syed    CSE   15000\n",
      "5  106   riyaz    EEE     NIL\n",
      "6  107     ash    EEE    4500\n",
      "7  108    Mahi    EEE    1800\n",
      "8  109  afridi     IT     250\n",
      "9  110     dil     IT     NIL\n"
     ]
    }
   ],
   "source": [
    "details=pd.DataFrame({'ID':[101,102,103,104,105,106,107,108,109,110],'Name':['ram','Mano','kio','rio','syed','riyaz','ash','Mahi','afridi','dil'],'Branch':['Mech','Mech','CSE','CSE','CSE','EEE','EEE','EEE','IT','IT']})\n",
    "print('Original DataFrame1\\n',details)\n",
    "fees_status=pd.DataFrame({'ID':[102,102,103,104,105,106,107,108,109,110],'Pending':['5000','250','NIL','9000','15000','NIL','4500','1800','250','NIL']})\n",
    "print('Original DataFrame2\\n',fees_status)\n",
    "print('Merged DataFrame\\n',pd.merge(details,fees_status,on='ID'))"
   ]
  },
  {
   "cell_type": "code",
   "execution_count": null,
   "id": "c3fa37c2-ff14-4df9-aae6-3260d056f251",
   "metadata": {},
   "outputs": [],
   "source": []
  }
 ],
 "metadata": {
  "kernelspec": {
   "display_name": "Python 3 (ipykernel)",
   "language": "python",
   "name": "python3"
  },
  "language_info": {
   "codemirror_mode": {
    "name": "ipython",
    "version": 3
   },
   "file_extension": ".py",
   "mimetype": "text/x-python",
   "name": "python",
   "nbconvert_exporter": "python",
   "pygments_lexer": "ipython3",
   "version": "3.12.4"
  }
 },
 "nbformat": 4,
 "nbformat_minor": 5
}
