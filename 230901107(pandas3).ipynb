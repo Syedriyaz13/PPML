{
 "cells": [
  {
   "cell_type": "code",
   "execution_count": 3,
   "id": "efba3d7f-b1ed-41e8-94b3-5b753ea32359",
   "metadata": {},
   "outputs": [
    {
     "name": "stdout",
     "output_type": "stream",
     "text": [
      "series from array:\n",
      "0    s\n",
      "1    a\n",
      "2    i\n",
      "3    r\n",
      "4    b\n",
      "5    l\n",
      "6    i\n",
      "dtype: object\n"
     ]
    }
   ],
   "source": [
    "import pandas as pd \n",
    "import numpy as np\n",
    "arr=np.array(['s','a','i','r','b','l','i'])\n",
    "a=pd.Series(arr)\n",
    "print(\"series from array:\")\n",
    "print(a)"
   ]
  },
  {
   "cell_type": "code",
   "execution_count": 5,
   "id": "2e176922-21bb-40d8-98d7-f9176153afa8",
   "metadata": {},
   "outputs": [
    {
     "name": "stdout",
     "output_type": "stream",
     "text": [
      "\n",
      " Series using scalar \n",
      "\n",
      "0    4\n",
      "1    4\n",
      "2    4\n",
      "3    4\n",
      "dtype: int64\n"
     ]
    }
   ],
   "source": [
    "x=pd.Series(4,index=[0,1,2,3])\n",
    "print(\"\\n Series using scalar \\n\")\n",
    "print(x)\n"
   ]
  },
  {
   "cell_type": "code",
   "execution_count": 11,
   "id": "793ce1e7-52cf-4964-9a98-cb4e7d42c86e",
   "metadata": {},
   "outputs": [
    {
     "name": "stdout",
     "output_type": "stream",
     "text": [
      "\n",
      " a.Series:\n",
      " 0    s\n",
      "1    a\n",
      "2    i\n",
      "3    r\n",
      "4    b\n",
      "5    l\n",
      "6    i\n",
      "dtype: object\n",
      "\n",
      " index:\n",
      " RangeIndex(start=0, stop=7, step=1)\n",
      "\n",
      " values:\n",
      " ['s' 'a' 'i' 'r' 'b' 'l' 'i']\n",
      "\n",
      "shape:\n",
      " (7,)\n",
      "]\n",
      "dimension:\n",
      " 1\n",
      "\n",
      "size:\n",
      " 7\n"
     ]
    }
   ],
   "source": [
    "print(\"\\n a.Series:\\n\",a)\n",
    "print(\"\\n index:\\n\",a.index)\n",
    "print(\"\\n values:\\n\",a.values)\n",
    "print(\"\\nshape:\\n\",a.shape)\n",
    "print(\"]\\ndimension:\\n\",a.ndim)\n",
    "print(\"\\nsize:\\n\",a.size)\n",
    "      "
   ]
  },
  {
   "cell_type": "code",
   "execution_count": 7,
   "id": "eebd97f4-a757-41d4-858d-0770242456e6",
   "metadata": {},
   "outputs": [
    {
     "name": "stdout",
     "output_type": "stream",
     "text": [
      "\n",
      " Series from dictionary:\n",
      "\n",
      "a    0\n",
      "b    1\n",
      "c    2\n",
      "dtype: int64\n"
     ]
    }
   ],
   "source": [
    "arr={'a':0,'b':1,'c':2}\n",
    "b=pd.Series(arr)\n",
    "print(\"\\n Series from dictionary:\\n\")\n",
    "print(b)"
   ]
  }
 ],
 "metadata": {
  "kernelspec": {
   "display_name": "Python 3 (ipykernel)",
   "language": "python",
   "name": "python3"
  },
  "language_info": {
   "codemirror_mode": {
    "name": "ipython",
    "version": 3
   },
   "file_extension": ".py",
   "mimetype": "text/x-python",
   "name": "python",
   "nbconvert_exporter": "python",
   "pygments_lexer": "ipython3",
   "version": "3.12.4"
  }
 },
 "nbformat": 4,
 "nbformat_minor": 5
}
