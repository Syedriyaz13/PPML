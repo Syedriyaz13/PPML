{
 "cells": [
  {
   "cell_type": "code",
   "execution_count": 1,
   "id": "bc9e9a04-ea63-4985-922e-bd6570ed9a51",
   "metadata": {},
   "outputs": [
    {
     "name": "stdout",
     "output_type": "stream",
     "text": [
      "today-now function:  2025-04-11 13:40:21.106486\n"
     ]
    }
   ],
   "source": [
    "import datetime\n",
    "a=datetime.datetime.now()\n",
    "print(\"today-now function: \",a)\n"
   ]
  },
  {
   "cell_type": "code",
   "execution_count": 3,
   "id": "070a89a9-d0f0-4b99-8c8b-11f67785211d",
   "metadata": {},
   "outputs": [
    {
     "name": "stdout",
     "output_type": "stream",
     "text": [
      "\n",
      "today:  2025-04-11 13:40:43.280588\n"
     ]
    }
   ],
   "source": [
    "today=datetime.datetime.today()\n",
    "print(\"\\ntoday: \",today)\n"
   ]
  },
  {
   "cell_type": "code",
   "execution_count": 9,
   "id": "72f923dc-46c0-4dc8-8f21-ddefea5c81bf",
   "metadata": {},
   "outputs": [
    {
     "name": "stdout",
     "output_type": "stream",
     "text": [
      "\n",
      "tomorrow: 2025-04-14 13:40:43.280588\n"
     ]
    }
   ],
   "source": [
    "tomorrow=today+datetime.timedelta(days=3)\n",
    "print(\"\\ntomorrow:\",tomorrow)"
   ]
  },
  {
   "cell_type": "code",
   "execution_count": 11,
   "id": "d2e15a65-821c-4055-898b-cd5d3476fc1d",
   "metadata": {},
   "outputs": [
    {
     "name": "stdout",
     "output_type": "stream",
     "text": [
      "\n",
      "yesterday:  2025-04-09 13:40:43.280588\n"
     ]
    }
   ],
   "source": [
    "yesterday=today-datetime.timedelta(days=2)\n",
    "print(\"\\nyesterday: \",yesterday)"
   ]
  },
  {
   "cell_type": "code",
   "execution_count": 13,
   "id": "02ef9092-33cf-4aff-850a-2c297e75bab7",
   "metadata": {},
   "outputs": [
    {
     "name": "stdout",
     "output_type": "stream",
     "text": [
      "\n",
      "date format [2020,6,8,23,10,25,404040):  2020-06-08 23:10:25.404040\n"
     ]
    }
   ],
   "source": [
    "a=datetime.datetime.now()\n",
    "b=datetime.datetime(2020,6,8,23,10,25,404040)\n",
    "print(\"\\ndate format [2020,6,8,23,10,25,404040): \",b)"
   ]
  },
  {
   "cell_type": "code",
   "execution_count": 15,
   "id": "6ca4a736-d0d3-4728-9d21-ef0530d2ca77",
   "metadata": {},
   "outputs": [
    {
     "name": "stdout",
     "output_type": "stream",
     "text": [
      "\n",
      "Replacing date 2024-12-31 2024-12-15\n"
     ]
    }
   ],
   "source": [
    "from datetime import date\n",
    "d=date(2024, 12, 31)\n",
    "print(\"\\nReplacing date\",d,d.replace(day=15))\n"
   ]
  },
  {
   "cell_type": "code",
   "execution_count": 17,
   "id": "2de55919-88be-4c01-a0b3-d5d9a2330991",
   "metadata": {},
   "outputs": [
    {
     "name": "stdout",
     "output_type": "stream",
     "text": [
      "\n",
      "Day and Month: 2004-04-17 Sat Apr 17 00:00:00 2004\n"
     ]
    }
   ],
   "source": [
    "t=date(2004,4,17)\n",
    "d=date(2004,4,17).ctime()\n",
    "print(\"\\nDay and Month:\",t,d)"
   ]
  },
  {
   "cell_type": "code",
   "execution_count": 19,
   "id": "d7d40497-d950-4d07-a62b-7479e36af5bc",
   "metadata": {},
   "outputs": [
    {
     "name": "stdout",
     "output_type": "stream",
     "text": [
      "\n",
      "Today: 2025-04-11\n",
      "Current year: 2025\n",
      "Current month: 4\n",
      "Current day: 11\n"
     ]
    }
   ],
   "source": [
    "today=date.today()\n",
    "print(\"\\nToday:\",today)\n",
    "print(\"Current year:\", today.year)\n",
    "print(\"Current month:\", today.month)\n",
    "print(\"Current day:\",today.day)"
   ]
  },
  {
   "cell_type": "code",
   "execution_count": null,
   "id": "d5474f98-d28a-434d-882a-a3885e8fed13",
   "metadata": {},
   "outputs": [],
   "source": []
  }
 ],
 "metadata": {
  "kernelspec": {
   "display_name": "Python 3 (ipykernel)",
   "language": "python",
   "name": "python3"
  },
  "language_info": {
   "codemirror_mode": {
    "name": "ipython",
    "version": 3
   },
   "file_extension": ".py",
   "mimetype": "text/x-python",
   "name": "python",
   "nbconvert_exporter": "python",
   "pygments_lexer": "ipython3",
   "version": "3.12.4"
  }
 },
 "nbformat": 4,
 "nbformat_minor": 5
}
