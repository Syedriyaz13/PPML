{
 "cells": [
  {
   "cell_type": "code",
   "execution_count": 41,
   "id": "27fd6dd8-f8ea-45cc-b1d2-3b257784b6cb",
   "metadata": {},
   "outputs": [
    {
     "name": "stdout",
     "output_type": "stream",
     "text": [
      "DataFrame.applyfunction:\n",
      "\n",
      "\n",
      " original DataFrame:\n",
      "    S  R\n",
      "0  3  9\n",
      "1  3  9\n",
      "2  3  9\n",
      "3  3  9\n",
      "\n",
      " squareroot of DataFrame:\n",
      "           S    R\n",
      "0  1.732051  3.0\n",
      "1  1.732051  3.0\n",
      "2  1.732051  3.0\n",
      "3  1.732051  3.0\n",
      "\n",
      " sum of each column:\n",
      " S    12\n",
      "R    36\n",
      "dtype: int64\n",
      "\n",
      " sum of each row:\n",
      " 0    12\n",
      "1    12\n",
      "2    12\n",
      "3    12\n",
      "dtype: int64\n"
     ]
    }
   ],
   "source": [
    "import pandas as pd\n",
    "import numpy as np\n",
    "print(\"DataFrame.applyfunction:\\n\")\n",
    "info=pd.DataFrame([[3,9]]*4,columns=['S','R'])\n",
    "print(\"\\n original DataFrame:\\n\",info)\n",
    "print(\"\\n squareroot of DataFrame:\\n\",info.apply(np.sqrt))\n",
    "print(\"\\n sum of each column:\\n\",info.apply(np.sum,axis=0))\n",
    "print(\"\\n sum of each row:\\n\",info.apply(np.sum,axis=1))"
   ]
  },
  {
   "cell_type": "code",
   "execution_count": 43,
   "id": "70daed07-08f8-4e30-a6b2-14ff1fb3de3c",
   "metadata": {},
   "outputs": [
    {
     "name": "stdout",
     "output_type": "stream",
     "text": [
      "\n",
      " original DataFrame:\n",
      "    x  y  z\n",
      "0  2  4  6\n",
      "1  1  3  5\n",
      "2  5  8  7\n",
      "\n",
      " minimum and maximum of each column:\n",
      "\n",
      "     x  y  z\n",
      "min  1  3  5\n",
      "max  5  8  7\n"
     ]
    }
   ],
   "source": [
    "info=pd.DataFrame([[2,4,6],[1,3,5],[5,8,7]],columns=['x','y','z'])\n",
    "print(\"\\n original DataFrame:\\n\",info)\n",
    "print(\"\\n minimum and maximum of each column:\\n\")\n",
    "print(info.agg(['min','max']))"
   ]
  },
  {
   "cell_type": "code",
   "execution_count": 45,
   "id": "34a8c51a-2581-49ae-8bff-07fa4d94c56a",
   "metadata": {},
   "outputs": [
    {
     "name": "stdout",
     "output_type": "stream",
     "text": [
      "\n",
      " DataFrame.Assign function:\n",
      "\n",
      "\n",
      " original DataFrame:\n",
      "        0   1\n",
      "0   syed  88\n",
      "1  riyaz  70\n",
      "\n",
      " Adding new column:\n",
      "        0   1  Age\n",
      "0   syed  88   20\n",
      "1  riyaz  70   18\n",
      "\n",
      " Adding new column:\n",
      "        0   1  Age   sex\n",
      "0   syed  88   20  Male\n",
      "1  riyaz  70   18  Male\n"
     ]
    }
   ],
   "source": [
    "print(\"\\n DataFrame.Assign function:\\n\")\n",
    "d2=pd.DataFrame([['syed',88],['riyaz',70]])\n",
    "columns=(['Emp','Id'])\n",
    "print(\"\\n original DataFrame:\\n\",d2)\n",
    "d2['Age']=[20,18]\n",
    "print(\"\\n Adding new column:\\n\",d2)\n",
    "d=d2.assign(sex=['Male','Male'])\n",
    "print(\"\\n Adding new column:\\n\",d)\n",
    "      "
   ]
  },
  {
   "cell_type": "code",
   "execution_count": 47,
   "id": "5976dda0-f981-4c1d-bf80-020bc421c7d7",
   "metadata": {},
   "outputs": [
    {
     "name": "stdout",
     "output_type": "stream",
     "text": [
      "\n",
      " DataFrame sort Function:\n",
      "\n",
      "          A         B\n",
      "3 -0.972624  0.682206\n",
      "2  0.657234 -0.836658\n",
      "0 -1.140766  0.319755\n",
      "4 -0.079668  1.124685\n",
      "1 -0.378408 -0.769812\n",
      "\n",
      " sort index:\n",
      "           A         B\n",
      "0 -1.140766  0.319755\n",
      "1 -0.378408 -0.769812\n",
      "2  0.657234 -0.836658\n",
      "3 -0.972624  0.682206\n",
      "4 -0.079668  1.124685\n",
      "\n",
      " sort values:\n",
      "           A         B\n",
      "0 -1.140766  0.319755\n",
      "3 -0.972624  0.682206\n",
      "1 -0.378408 -0.769812\n",
      "4 -0.079668  1.124685\n",
      "2  0.657234 -0.836658\n"
     ]
    }
   ],
   "source": [
    "print(\"\\n DataFrame sort Function:\\n\")\n",
    "info=pd.DataFrame(np.random.randn(5,2),index=[3,2,0,4,1],columns=['A','B'])\n",
    "print(info)\n",
    "info2=info.sort_index()\n",
    "print(\"\\n sort index:\\n\",info2)\n",
    "info3=info.sort_values(by='A')\n",
    "print(\"\\n sort values:\\n\",info3)"
   ]
  },
  {
   "cell_type": "code",
   "execution_count": 57,
   "id": "f7014a10-fac1-49a7-9c3b-72ff7af4dd59",
   "metadata": {},
   "outputs": [
    {
     "ename": "SyntaxError",
     "evalue": "unterminated string literal (detected at line 6) (3116246318.py, line 6)",
     "output_type": "error",
     "traceback": [
      "\u001b[0;36m  Cell \u001b[0;32mIn[57], line 6\u001b[0;36m\u001b[0m\n\u001b[0;31m    'name':['sanjay','r','se',''raj'],\u001b[0m\n\u001b[0m                                   ^\u001b[0m\n\u001b[0;31mSyntaxError\u001b[0m\u001b[0;31m:\u001b[0m unterminated string literal (detected at line 6)\n"
     ]
    }
   ],
   "source": [
    "print(\"\\n DataFrame Merge Function:\\n\")\n",
    "left=pd.DataFrame({'id':[1,2,3,4],\n",
    "                   'Name':['Sai','Ravi','poo','yash'],\n",
    "                   'sub'=['sbu1','sub2','sub4','sub3']})\n",
    "right=pd.DataFrame({'id':[1,2,3,4],\n",
    "                    'name':['sanjay','r','se',''raj'],\n",
    "                    'sub':['sub1','sub2',''sub3','sub2']})\n",
    "                    \n",
    "print(left)\n",
    "print(right)\n",
    "print(pd.merge(left,right,on='id'))"
   ]
  },
  {
   "cell_type": "code",
   "execution_count": null,
   "id": "4a8f1a8d-2025-41aa-84b6-f1f9d277192d",
   "metadata": {},
   "outputs": [],
   "source": []
  }
 ],
 "metadata": {
  "kernelspec": {
   "display_name": "Python 3 (ipykernel)",
   "language": "python",
   "name": "python3"
  },
  "language_info": {
   "codemirror_mode": {
    "name": "ipython",
    "version": 3
   },
   "file_extension": ".py",
   "mimetype": "text/x-python",
   "name": "python",
   "nbconvert_exporter": "python",
   "pygments_lexer": "ipython3",
   "version": "3.12.4"
  }
 },
 "nbformat": 4,
 "nbformat_minor": 5
}
