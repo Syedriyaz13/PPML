{
  "cells": [
    {
      "cell_type": "markdown",
      "metadata": {
        "id": "view-in-github",
        "colab_type": "text"
      },
      "source": [
        "<a href=\"https://colab.research.google.com/github/Syedriyaz13/PPML/blob/main/230901107(pandas2).ipynb\" target=\"_parent\"><img src=\"https://colab.research.google.com/assets/colab-badge.svg\" alt=\"Open In Colab\"/></a>"
      ]
    },
    {
      "cell_type": "code",
      "execution_count": null,
      "id": "27fd6dd8-f8ea-45cc-b1d2-3b257784b6cb",
      "metadata": {
        "colab": {
          "base_uri": "https://localhost:8080/"
        },
        "id": "27fd6dd8-f8ea-45cc-b1d2-3b257784b6cb",
        "outputId": "e1887954-0792-4ff4-f5d6-c844c4d62fca"
      },
      "outputs": [
        {
          "output_type": "stream",
          "name": "stdout",
          "text": [
            "DataFrame.applyfunction:\n",
            "\n",
            "\n",
            " original DataFrame:\n",
            "    S  R\n",
            "0  3  9\n",
            "1  3  9\n",
            "2  3  9\n",
            "3  3  9\n",
            "\n",
            " squareroot of DataFrame:\n",
            "           S    R\n",
            "0  1.732051  3.0\n",
            "1  1.732051  3.0\n",
            "2  1.732051  3.0\n",
            "3  1.732051  3.0\n",
            "\n",
            " sum of each column:\n",
            " S    12\n",
            "R    36\n",
            "dtype: int64\n",
            "\n",
            " sum of each row:\n",
            " 0    12\n",
            "1    12\n",
            "2    12\n",
            "3    12\n",
            "dtype: int64\n"
          ]
        }
      ],
      "source": [
        "import pandas as pd\n",
        "import numpy as np\n",
        "print(\"DataFrame.applyfunction:\\n\")\n",
        "info=pd.DataFrame([[3,9]]*4,columns=['S','R'])\n",
        "print(\"\\n original DataFrame:\\n\",info)\n",
        "print(\"\\n squareroot of DataFrame:\\n\",info.apply(np.sqrt))\n",
        "print(\"\\n sum of each column:\\n\",info.apply(np.sum,axis=0))\n",
        "print(\"\\n sum of each row:\\n\",info.apply(np.sum,axis=1))"
      ]
    },
    {
      "cell_type": "code",
      "execution_count": null,
      "id": "70daed07-08f8-4e30-a6b2-14ff1fb3de3c",
      "metadata": {
        "colab": {
          "base_uri": "https://localhost:8080/"
        },
        "id": "70daed07-08f8-4e30-a6b2-14ff1fb3de3c",
        "outputId": "2e47dc83-4fcf-4618-e2b4-1bed2bace42a"
      },
      "outputs": [
        {
          "output_type": "stream",
          "name": "stdout",
          "text": [
            "\n",
            " original DataFrame:\n",
            "    x  y  z\n",
            "0  2  4  6\n",
            "1  1  3  5\n",
            "2  5  8  7\n",
            "\n",
            " minimum and maximum of each column:\n",
            "\n",
            "     x  y  z\n",
            "min  1  3  5\n",
            "max  5  8  7\n"
          ]
        }
      ],
      "source": [
        "info=pd.DataFrame([[2,4,6],[1,3,5],[5,8,7]],columns=['x','y','z'])\n",
        "print(\"\\n original DataFrame:\\n\",info)\n",
        "print(\"\\n minimum and maximum of each column:\\n\")\n",
        "print(info.agg(['min','max']))"
      ]
    },
    {
      "cell_type": "code",
      "execution_count": null,
      "id": "34a8c51a-2581-49ae-8bff-07fa4d94c56a",
      "metadata": {
        "colab": {
          "base_uri": "https://localhost:8080/"
        },
        "id": "34a8c51a-2581-49ae-8bff-07fa4d94c56a",
        "outputId": "82d325bc-0cf2-49cf-fff1-983c5c3c4d8a"
      },
      "outputs": [
        {
          "output_type": "stream",
          "name": "stdout",
          "text": [
            "\n",
            " DataFrame.Assign function:\n",
            "\n",
            "\n",
            " original DataFrame:\n",
            "        0   1\n",
            "0   syed  88\n",
            "1  riyaz  70\n",
            "\n",
            " Adding new column:\n",
            "        0   1  Age\n",
            "0   syed  88   20\n",
            "1  riyaz  70   18\n",
            "\n",
            " Adding new column:\n",
            "        0   1  Age   sex\n",
            "0   syed  88   20  Male\n",
            "1  riyaz  70   18  Male\n"
          ]
        }
      ],
      "source": [
        "print(\"\\n DataFrame.Assign function:\\n\")\n",
        "d2=pd.DataFrame([['syed',88],['riyaz',70]])\n",
        "columns=(['Emp','Id'])\n",
        "print(\"\\n original DataFrame:\\n\",d2)\n",
        "d2['Age']=[20,18]\n",
        "print(\"\\n Adding new column:\\n\",d2)\n",
        "d=d2.assign(sex=['Male','Male'])\n",
        "print(\"\\n Adding new column:\\n\",d)\n"
      ]
    },
    {
      "cell_type": "code",
      "execution_count": null,
      "id": "5976dda0-f981-4c1d-bf80-020bc421c7d7",
      "metadata": {
        "colab": {
          "base_uri": "https://localhost:8080/"
        },
        "id": "5976dda0-f981-4c1d-bf80-020bc421c7d7",
        "outputId": "7df8e203-9808-4b82-81de-71af32885e1d"
      },
      "outputs": [
        {
          "output_type": "stream",
          "name": "stdout",
          "text": [
            "\n",
            " DataFrame sort Function:\n",
            "\n",
            "          A         B\n",
            "3 -0.886823  0.163797\n",
            "2 -0.143533  0.646661\n",
            "0  0.746276  0.330387\n",
            "4  2.312432  0.038295\n",
            "1 -0.786793  0.219998\n",
            "\n",
            " sort index:\n",
            "           A         B\n",
            "0  0.746276  0.330387\n",
            "1 -0.786793  0.219998\n",
            "2 -0.143533  0.646661\n",
            "3 -0.886823  0.163797\n",
            "4  2.312432  0.038295\n",
            "\n",
            " sort values:\n",
            "           A         B\n",
            "3 -0.886823  0.163797\n",
            "1 -0.786793  0.219998\n",
            "2 -0.143533  0.646661\n",
            "0  0.746276  0.330387\n",
            "4  2.312432  0.038295\n"
          ]
        }
      ],
      "source": [
        "print(\"\\n DataFrame sort Function:\\n\")\n",
        "info=pd.DataFrame(np.random.randn(5,2),index=[3,2,0,4,1],columns=['A','B'])\n",
        "print(info)\n",
        "info2=info.sort_index()\n",
        "print(\"\\n sort index:\\n\",info2)\n",
        "info3=info.sort_values(by='A')\n",
        "print(\"\\n sort values:\\n\",info3)"
      ]
    },
    {
      "cell_type": "code",
      "execution_count": null,
      "id": "f7014a10-fac1-49a7-9c3b-72ff7af4dd59",
      "metadata": {
        "colab": {
          "base_uri": "https://localhost:8080/"
        },
        "id": "f7014a10-fac1-49a7-9c3b-72ff7af4dd59",
        "outputId": "e321291d-bfe7-4b16-cd5f-3f130162cde3"
      },
      "outputs": [
        {
          "output_type": "stream",
          "name": "stdout",
          "text": [
            "\n",
            " DataFrame Merge function:\n",
            "\n",
            "   id  name    sub\n",
            "0   1   sam  sub 1\n",
            "1   2  yash  sub 2\n",
            "2   3   ram  sub 3\n",
            "3   4  raja  sub 4\n",
            "   id    name    sub\n",
            "0   1     ram  sub 1\n",
            "1   2     sam  sub 4\n",
            "2   3  akshai  sub 3\n",
            "3   4    babu  sub 2\n",
            "   id name_x  sub_x  name_y  sub_y\n",
            "0   1    sam  sub 1     ram  sub 1\n",
            "1   2   yash  sub 2     sam  sub 4\n",
            "2   3    ram  sub 3  akshai  sub 3\n",
            "3   4   raja  sub 4    babu  sub 2\n"
          ]
        }
      ],
      "source": [
        "print(\"\\n DataFrame Merge function:\\n\")\n",
        "left=pd.DataFrame({'id':[1,2,3,4],'name':['sam','yash','ram','raja'],'sub':['sub 1','sub 2','sub 3','sub 4']})\n",
        "right=pd.DataFrame({'id':[1,2,3,4],'name':['ram','sam','akshai','babu'],'sub':['sub 1','sub 4','sub 3','sub 2']})\n",
        "print(left)\n",
        "print(right)\n",
        "print(pd.merge(left,right,on='id'))"
      ]
    },
    {
      "cell_type": "code",
      "execution_count": null,
      "id": "4a8f1a8d-2025-41aa-84b6-f1f9d277192d",
      "metadata": {
        "id": "4a8f1a8d-2025-41aa-84b6-f1f9d277192d"
      },
      "outputs": [],
      "source": []
    }
  ],
  "metadata": {
    "kernelspec": {
      "display_name": "Python 3 (ipykernel)",
      "language": "python",
      "name": "python3"
    },
    "language_info": {
      "codemirror_mode": {
        "name": "ipython",
        "version": 3
      },
      "file_extension": ".py",
      "mimetype": "text/x-python",
      "name": "python",
      "nbconvert_exporter": "python",
      "pygments_lexer": "ipython3",
      "version": "3.12.4"
    },
    "colab": {
      "provenance": [],
      "include_colab_link": true
    }
  },
  "nbformat": 4,
  "nbformat_minor": 5
}