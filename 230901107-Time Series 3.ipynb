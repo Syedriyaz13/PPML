{
 "cells": [
  {
   "cell_type": "code",
   "execution_count": 1,
   "id": "9f34bac5-978b-4b15-a46e-6b59c06b4752",
   "metadata": {},
   "outputs": [
    {
     "name": "stdout",
     "output_type": "stream",
     "text": [
      "Date Index \n",
      " 2011-01-02    0.211082\n",
      "2011-01-05    3.201920\n",
      "2011-01-07    0.591159\n",
      "2011-01-08    0.228680\n",
      "2011-01-10   -1.026924\n",
      "2011-01-12   -0.298241\n",
      "dtype: float64\n"
     ]
    }
   ],
   "source": [
    "import pandas as pd\n",
    "import numpy as np\n",
    "from datetime import datetime\n",
    "#create a date variable that contains the dates\n",
    "dates = [datetime(2011, 1, 2),\n",
    "datetime(2011, 1, 5),\n",
    "datetime(2011, 1, 7),\n",
    "datetime(2011, 1, 8),\n",
    "datetime(2011, 1, 10),\n",
    "datetime(2011, 1, 12)]\n",
    "#with this date object, create a series\n",
    "ts = pd.Series(np.random.randn(6), index=dates)\n",
    "print(\"Date Index \\n\",ts)"
   ]
  },
  {
   "cell_type": "code",
   "execution_count": 15,
   "id": "e3febfac-8ea3-4dc4-8754-bdf813505b91",
   "metadata": {},
   "outputs": [
    {
     "name": "stdout",
     "output_type": "stream",
     "text": [
      "\n",
      "Date Index alone from the series: \n",
      " DatetimeIndex(['2011-01-02', '2011-01-05', '2011-01-07', '2011-01-08',\n",
      "               '2011-01-10', '2011-01-12'],\n",
      "              dtype='datetime64[ns]', freq=None)\n"
     ]
    }
   ],
   "source": [
    "print(\"\\nDate Index alone from the series: \\n\",ts.index)"
   ]
  },
  {
   "cell_type": "code",
   "execution_count": 17,
   "id": "971e9d7c-f913-433e-a119-29ca67ac6f00",
   "metadata": {},
   "outputs": [
    {
     "name": "stdout",
     "output_type": "stream",
     "text": [
      "\n",
      "Second index:\n",
      " 2011-01-07 00:00:00\n"
     ]
    }
   ],
   "source": [
    "stamp=ts.index[2]\n",
    "print(\"\\nSecond index:\\n\", stamp)"
   ]
  },
  {
   "cell_type": "code",
   "execution_count": 19,
   "id": "27c04b0a-b479-4f49-a294-691ffb7d7319",
   "metadata": {},
   "outputs": [
    {
     "name": "stdout",
     "output_type": "stream",
     "text": [
      "\n",
      "Daterange up to 1000 days:\n",
      " 2000-01-01    1.356173\n",
      "2000-01-02    1.036186\n",
      "2000-01-03    0.165336\n",
      "2000-01-04    0.337495\n",
      "2000-01-05   -1.563296\n",
      "                ...   \n",
      "2002-09-22   -0.319454\n",
      "2002-09-23   -1.533624\n",
      "2002-09-24   -1.064724\n",
      "2002-09-25    0.180014\n",
      "2002-09-26   -0.693559\n",
      "Freq: D, Length: 1000, dtype: float64\n"
     ]
    }
   ],
   "source": [
    "#play like a ball with long-times series\n",
    "longer_ts=pd.Series(np.random.randn(1000),\n",
    "index=pd.date_range(\"2000-01-01\",periods=1000))\n",
    "print(\"\\nDaterange up to 1000 days:\\n\",longer_ts)"
   ]
  },
  {
   "cell_type": "code",
   "execution_count": 21,
   "id": "2b0c8e20-b5fa-46d0-a099-6677774a424c",
   "metadata": {},
   "outputs": [
    {
     "name": "stdout",
     "output_type": "stream",
     "text": [
      "\n",
      "Date range-2001 year:\n",
      " 2001-01-01   -0.289847\n",
      "2001-01-02   -0.307999\n",
      "2001-01-03    0.236988\n",
      "2001-01-04    0.764400\n",
      "2001-01-05    0.704343\n",
      "                ...   \n",
      "2001-12-27    0.256525\n",
      "2001-12-28    0.610938\n",
      "2001-12-29   -1.460610\n",
      "2001-12-30   -1.615502\n",
      "2001-12-31    0.062061\n",
      "Freq: D, Length: 365, dtype: float64\n"
     ]
    }
   ],
   "source": [
    "print(\"\\nDate range-2001 year:\\n\", longer_ts[\"2001\"])"
   ]
  },
  {
   "cell_type": "code",
   "execution_count": 23,
   "id": "50e77749-daa2-4cc7-b21f-0ced0514a7c9",
   "metadata": {},
   "outputs": [
    {
     "name": "stdout",
     "output_type": "stream",
     "text": [
      "\n",
      "Date range-05 month 2001 year:\n",
      " 2001-05-01   -0.851587\n",
      "2001-05-02   -1.762627\n",
      "2001-05-03    0.503244\n",
      "2001-05-04   -0.810342\n",
      "2001-05-05   -1.297516\n",
      "2001-05-06    0.687680\n",
      "2001-05-07    0.411226\n",
      "2001-05-08    1.593642\n",
      "2001-05-09    0.564297\n",
      "2001-05-10    0.376630\n",
      "2001-05-11   -1.460054\n",
      "2001-05-12   -0.049188\n",
      "2001-05-13   -0.363163\n",
      "2001-05-14   -0.765740\n",
      "2001-05-15   -1.294839\n",
      "2001-05-16    0.269961\n",
      "2001-05-17    0.187452\n",
      "2001-05-18   -1.015090\n",
      "2001-05-19    0.126708\n",
      "2001-05-20   -1.993463\n",
      "2001-05-21    0.829056\n",
      "2001-05-22    0.448352\n",
      "2001-05-23   -0.097762\n",
      "2001-05-24    1.048841\n",
      "2001-05-25    1.598936\n",
      "2001-05-26    0.655438\n",
      "2001-05-27    1.233610\n",
      "2001-05-28   -0.043733\n",
      "2001-05-29   -1.467706\n",
      "2001-05-30   -0.712343\n",
      "2001-05-31   -0.577810\n",
      "Freq: D, dtype: float64\n"
     ]
    }
   ],
   "source": [
    "print(\"\\nDate range-05 month 2001 year:\\n\", longer_ts[\"2001-05\"])"
   ]
  },
  {
   "cell_type": "code",
   "execution_count": 25,
   "id": "a17a088c-aa9e-4727-8d2d-92f515fedaf7",
   "metadata": {},
   "outputs": [
    {
     "name": "stdout",
     "output_type": "stream",
     "text": [
      "\n",
      "Date range-first few dates in 2000 year:\n",
      " 2000-01-01    1.356173\n",
      "2000-01-02    1.036186\n",
      "2000-01-03    0.165336\n",
      "2000-01-04    0.337495\n",
      "2000-01-05   -1.563296\n",
      "Freq: D, dtype: float64\n"
     ]
    }
   ],
   "source": [
    "print(\"\\nDate range-first few dates in 2000 year:\\n\",longer_ts[\"2000\"].head())"
   ]
  },
  {
   "cell_type": "code",
   "execution_count": 27,
   "id": "82ee7a51-bf39-4551-a6f1-2f8c884dd8bc",
   "metadata": {},
   "outputs": [
    {
     "name": "stdout",
     "output_type": "stream",
     "text": [
      "\n",
      "Date range-first 15 dates in 02 month 2001 year:\n",
      " 2000-02-01    0.404486\n",
      "2000-02-02   -0.325441\n",
      "2000-02-03    0.286684\n",
      "2000-02-04   -1.141305\n",
      "2000-02-05   -0.286267\n",
      "2000-02-06   -0.907107\n",
      "2000-02-07    0.418381\n",
      "2000-02-08    0.193501\n",
      "2000-02-09    1.354030\n",
      "2000-02-10   -0.199939\n",
      "2000-02-11   -0.446291\n",
      "2000-02-12    0.282405\n",
      "2000-02-13    0.389789\n",
      "2000-02-14    1.743205\n",
      "2000-02-15   -1.615455\n",
      "Freq: D, dtype: float64\n"
     ]
    }
   ],
   "source": [
    "print(\"\\nDate range-first 15 dates in 02 month 2001 year:\\n\",longer_ts[\"2000-02\"].head(15))"
   ]
  },
  {
   "cell_type": "code",
   "execution_count": 31,
   "id": "f310eddf-bc1e-488c-a3c2-74e3b0c80bb7",
   "metadata": {},
   "outputs": [
    {
     "name": "stdout",
     "output_type": "stream",
     "text": [
      "\n",
      "Date range-rom 26-9-2001:\n",
      " 2000-09-26   -0.739503\n",
      "2000-09-27    0.227693\n",
      "2000-09-28   -1.244815\n",
      "2000-09-29    0.550145\n",
      "2000-09-30    0.822462\n",
      "                ...   \n",
      "2002-09-22   -0.319454\n",
      "2002-09-23   -1.533624\n",
      "2002-09-24   -1.064724\n",
      "2002-09-25    0.180014\n",
      "2002-09-26   -0.693559\n",
      "Freq: D, Length: 731, dtype: float64\n"
     ]
    }
   ],
   "source": [
    "print(\"\\nDate range-rom 26-9-2001:\\n\",longer_ts[datetime(2000,9,26):])"
   ]
  },
  {
   "cell_type": "code",
   "execution_count": null,
   "id": "ad0ffff5-9dc9-43a7-8bdc-aed5ad4d33ef",
   "metadata": {},
   "outputs": [],
   "source": []
  }
 ],
 "metadata": {
  "kernelspec": {
   "display_name": "Python 3 (ipykernel)",
   "language": "python",
   "name": "python3"
  },
  "language_info": {
   "codemirror_mode": {
    "name": "ipython",
    "version": 3
   },
   "file_extension": ".py",
   "mimetype": "text/x-python",
   "name": "python",
   "nbconvert_exporter": "python",
   "pygments_lexer": "ipython3",
   "version": "3.12.4"
  }
 },
 "nbformat": 4,
 "nbformat_minor": 5
}
