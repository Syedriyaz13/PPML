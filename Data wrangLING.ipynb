{
 "cells": [
  {
   "cell_type": "code",
   "execution_count": 7,
   "id": "43d98142-ba56-4bd0-97e0-df56f891d800",
   "metadata": {},
   "outputs": [
    {
     "name": "stdout",
     "output_type": "stream",
     "text": [
      "original dataframe:\n",
      "    Name Age Gender Marks\n",
      "0   sai  20      M    90\n",
      "1  yuva  18      F    76\n",
      "2   poo  19      M   NaN\n",
      "3  savi  20      F    74\n",
      "4  ruba  18      F    65\n",
      "5   raj  17      M   NaN\n",
      "6  ravi  19      M    71\n",
      "\n",
      " Replacing NaN with a average marks:\n",
      "    Name Age Gender  Marks\n",
      "0   sai  20      M   90.0\n",
      "1  yuva  18      F   76.0\n",
      "2   poo  19      M   90.0\n",
      "3  savi  20      F   74.0\n",
      "4  ruba  18      F   65.0\n",
      "5   raj  17      M   90.0\n",
      "6  ravi  19      M   71.0\n"
     ]
    },
    {
     "name": "stderr",
     "output_type": "stream",
     "text": [
      "/var/folders/w2/jykwyxmx79n6905fy_4s9glr0000gp/T/ipykernel_2027/1465525308.py:15: FutureWarning: Downcasting behavior in `replace` is deprecated and will be removed in a future version. To retain the old behavior, explicitly call `result.infer_objects(copy=False)`. To opt-in to the future behavior, set `pd.set_option('future.no_silent_downcasting', True)`\n",
      "  df=df.replace(to_replace='NaN',value=avg)\n"
     ]
    }
   ],
   "source": [
    "import pandas as pd\n",
    "#assign data\n",
    "data={'Name':['sai','yuva','poo','savi','ruba','raj','ravi'],\n",
    "      'Age':['20','18','19','20','18','17','19'],\n",
    "      'Gender':['M','F','M','F','F','M','M'],\n",
    "      'Marks':[90,76,'NaN',74,65,'NaN',71]}\n",
    "df=pd.DataFrame(data)\n",
    "print(\"original dataframe:\\n\",df)\n",
    "c=avg=0\n",
    "for ele in df['Marks']:\n",
    "    if str(ele).isnumeric():\n",
    "        c+=1\n",
    "        avg+=ele\n",
    "        avg/=c\n",
    "        df=df.replace(to_replace='NaN',value=avg)\n",
    "print(\"\\n Replacing NaN with a average marks:\\n\",df)\n",
    "    "
   ]
  },
  {
   "cell_type": "code",
   "execution_count": 11,
   "id": "fd582eda-d21b-4ed8-8c7c-969e7853afdd",
   "metadata": {},
   "outputs": [
    {
     "name": "stdout",
     "output_type": "stream",
     "text": [
      "\n",
      " filtering and dropping function:\n",
      "    Name Gender  Marks\n",
      "0   sai      M   90.0\n",
      "1  yuva      F   76.0\n",
      "2   poo      M   90.0\n",
      "5   raj      M   90.0\n"
     ]
    }
   ],
   "source": [
    "#filter top scoring students\n",
    "df=df[df['Marks']>=75]\n",
    "#remove age row\n",
    "df=df.drop(['Age'],axis=1)\n",
    "#display data\n",
    "print(\"\\n filtering and dropping function:\\n\",df)"
   ]
  },
  {
   "cell_type": "code",
   "execution_count": 15,
   "id": "fe5d3c51-be96-44a7-8179-8fbd4b121ee0",
   "metadata": {},
   "outputs": [
    {
     "name": "stdout",
     "output_type": "stream",
     "text": [
      "\n",
      " original DataFrame 1:\n",
      "    name subject-id  Marks-scored\n",
      "1   sai       sub1            98\n",
      "2   raj       sub2            90\n",
      "3  yuva       sub3            92\n",
      "4   ram       sub4            85\n",
      "5   sam       sub5            89\n",
      "\n",
      " original DataFrame 2:\n",
      "     Name subject-id  Marks-scored\n",
      "1  sanju       sub2            73\n",
      "2   ravi       sub3            80\n",
      "3  shree       sub4            85\n",
      "4   niki       sub6            98\n",
      "5  rahul       sub5            79\n",
      "   name subject-id  Marks-scored   Name\n",
      "1   sai       sub1            98    NaN\n",
      "2   raj       sub2            90    NaN\n",
      "3  yuva       sub3            92    NaN\n",
      "4   ram       sub4            85    NaN\n",
      "5   sam       sub5            89    NaN\n",
      "1   NaN       sub2            73  sanju\n",
      "2   NaN       sub3            80   ravi\n",
      "3   NaN       sub4            85  shree\n",
      "4   NaN       sub6            98   niki\n",
      "5   NaN       sub5            79  rahul\n"
     ]
    }
   ],
   "source": [
    "one=pd.DataFrame({'name':['sai','raj','yuva','ram','sam'],\n",
    "                  'subject-id':['sub1','sub2','sub3','sub4','sub5'],\n",
    "                  'Marks-scored':[98,90,92,85,89]},\n",
    "                 index=[1,2,3,4,5])\n",
    "two=pd.DataFrame({'Name':['sanju','ravi','shree','niki','rahul'],\n",
    "                  'subject-id':['sub2','sub3','sub4','sub6','sub5'],\n",
    "                  'Marks-scored':[73,80,85,98,79]},\n",
    "                 index=[1,2,3,4,5])\n",
    "print(\"\\n original DataFrame 1:\\n\",one)\n",
    "print(\"\\n original DataFrame 2:\\n\",two)\n",
    "print(pd.concat([one,two]))\n",
    "                  \n",
    "                \n",
    "\n",
    "                  "
   ]
  },
  {
   "cell_type": "code",
   "execution_count": null,
   "id": "0ca29e29-1360-4d69-a97a-38362ee23ab5",
   "metadata": {},
   "outputs": [],
   "source": []
  }
 ],
 "metadata": {
  "kernelspec": {
   "display_name": "Python 3 (ipykernel)",
   "language": "python",
   "name": "python3"
  },
  "language_info": {
   "codemirror_mode": {
    "name": "ipython",
    "version": 3
   },
   "file_extension": ".py",
   "mimetype": "text/x-python",
   "name": "python",
   "nbconvert_exporter": "python",
   "pygments_lexer": "ipython3",
   "version": "3.12.4"
  }
 },
 "nbformat": 4,
 "nbformat_minor": 5
}
