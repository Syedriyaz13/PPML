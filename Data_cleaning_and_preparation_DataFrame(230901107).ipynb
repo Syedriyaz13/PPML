{
  "nbformat": 4,
  "nbformat_minor": 0,
  "metadata": {
    "colab": {
      "provenance": [],
      "authorship_tag": "ABX9TyPlcKWqb731sL1NOehF2g+Y",
      "include_colab_link": true
    },
    "kernelspec": {
      "name": "python3",
      "display_name": "Python 3"
    },
    "language_info": {
      "name": "python"
    }
  },
  "cells": [
    {
      "cell_type": "markdown",
      "metadata": {
        "id": "view-in-github",
        "colab_type": "text"
      },
      "source": [
        "<a href=\"https://colab.research.google.com/github/Syedriyaz13/PPML_numpy/blob/main/Data_cleaning_and_preparation_DataFrame(230901107).ipynb\" target=\"_parent\"><img src=\"https://colab.research.google.com/assets/colab-badge.svg\" alt=\"Open In Colab\"/></a>"
      ]
    },
    {
      "cell_type": "code",
      "execution_count": null,
      "metadata": {
        "colab": {
          "base_uri": "https://localhost:8080/"
        },
        "id": "evgVUhNOi9Fg",
        "outputId": "73fae13d-05cb-4c79-f62d-70ea9e26aeb6"
      },
      "outputs": [
        {
          "output_type": "stream",
          "name": "stdout",
          "text": [
            "original DataFrame with NaN\n",
            "         one       two     three\n",
            "a  0.417788  1.172836 -0.068656\n",
            "b       NaN       NaN       NaN\n",
            "c  0.850288 -0.046430  0.343537\n",
            "d -0.412017  0.738731 -0.545427\n",
            "e       NaN       NaN       NaN\n",
            "f -0.117912  0.740499  0.398739\n",
            "\n",
            "\n",
            "dropped DataFrame         one       two     three\n",
            "a  0.417788  1.172836 -0.068656\n",
            "c  0.850288 -0.046430  0.343537\n",
            "d -0.412017  0.738731 -0.545427\n",
            "f -0.117912  0.740499  0.398739\n",
            "\n",
            "\n"
          ]
        }
      ],
      "source": [
        "import pandas as pd\n",
        "import numpy as np\n",
        "df=pd.DataFrame(np.random.randn(4,3),index=['a','c','d','f'],columns=['one','two','three'])\n",
        "df=df.reindex(['a','b','c','d','e','f'])\n",
        "print(\"original DataFrame with NaN\\n\",df)\n",
        "print(\"\\n\")\n",
        "print(\"dropped DataFrame\",df.dropna())\n",
        "print(\"\\n\")"
      ]
    },
    {
      "cell_type": "code",
      "source": [],
      "metadata": {
        "id": "7Xv_82Vksf4w"
      },
      "execution_count": null,
      "outputs": []
    },
    {
      "cell_type": "code",
      "source": [
        "import pandas as pd\n",
        "import numpy as np\n",
        "df=pd.DataFrame(np.random.randn(4,3),index=['a','c','d','f'],columns=['one','two','three'])\n",
        "df=df.reindex(['a','b','c','d','e','f'])\n",
        "print(\"original DataFrame with DataFrame:\\n\",df)\n",
        "print(\"\\n\")\n",
        "print(\"dropped DataFrame\",df.fillna(0))\n",
        "print(\"\\n\")"
      ],
      "metadata": {
        "colab": {
          "base_uri": "https://localhost:8080/"
        },
        "id": "KkUrOY7mmQ4H",
        "outputId": "f48ff7ce-98aa-4f02-8a4b-c8accac78605"
      },
      "execution_count": null,
      "outputs": [
        {
          "output_type": "stream",
          "name": "stdout",
          "text": [
            "original DataFrame with DataFrame:\n",
            "         one       two     three\n",
            "a  2.147180 -0.608084  0.923663\n",
            "b       NaN       NaN       NaN\n",
            "c  0.867547 -1.495702  0.700763\n",
            "d -0.144831  1.471568 -0.941668\n",
            "e       NaN       NaN       NaN\n",
            "f -0.464970  0.483076 -0.023353\n",
            "\n",
            "\n",
            "dropped DataFrame         one       two     three\n",
            "a  2.147180 -0.608084  0.923663\n",
            "b  0.000000  0.000000  0.000000\n",
            "c  0.867547 -1.495702  0.700763\n",
            "d -0.144831  1.471568 -0.941668\n",
            "e  0.000000  0.000000  0.000000\n",
            "f -0.464970  0.483076 -0.023353\n",
            "\n",
            "\n"
          ]
        }
      ]
    },
    {
      "cell_type": "code",
      "source": [
        "df=pd.DataFrame({'one':[10,20,30,40,50],'two':[60,70,80,0,10]})\n",
        "print(\"original DataFrame:\\n\",df)\n",
        "print(\"\\n DataFrame with replaced values:\\n\")\n",
        "print(df.replace({10:5,80:3}))"
      ],
      "metadata": {
        "colab": {
          "base_uri": "https://localhost:8080/"
        },
        "id": "d1yk3hMcpoz9",
        "outputId": "f8fc5b71-2ea5-4def-ed29-d8d8ecd4d212"
      },
      "execution_count": null,
      "outputs": [
        {
          "output_type": "stream",
          "name": "stdout",
          "text": [
            "original DataFrame:\n",
            "    one  two\n",
            "0   10   60\n",
            "1   20   70\n",
            "2   30   80\n",
            "3   40    0\n",
            "4   50   10\n",
            "\n",
            " DataFramev with replaced values:\n",
            "\n",
            "   one  two\n",
            "0    5   60\n",
            "1   20   70\n",
            "2   30    3\n",
            "3   40    0\n",
            "4   50    5\n"
          ]
        }
      ]
    },
    {
      "cell_type": "code",
      "source": [
        "df=pd.DataFrame(np.random.randn(4,3),index=['a','c','d','f'],columns=['one','two','three'])\n",
        "df=df.reindex(['a','b','c','d','e','f'])\n",
        "print(\"original DataFrame:\\n\" ,df)\n",
        "print(\"\\n NaN-with True fill:\\n\")\n",
        "print(df['one'].isnull())"
      ],
      "metadata": {
        "colab": {
          "base_uri": "https://localhost:8080/"
        },
        "id": "DIOiMT7nslDL",
        "outputId": "449273d0-7283-49fa-863c-010a68c07c49"
      },
      "execution_count": null,
      "outputs": [
        {
          "output_type": "stream",
          "name": "stdout",
          "text": [
            "original DataFrame:\n",
            "         one       two     three\n",
            "a -0.059474  0.396491 -0.037279\n",
            "b       NaN       NaN       NaN\n",
            "c  0.684628 -0.903069 -0.167954\n",
            "d  0.864095  0.378199  1.164233\n",
            "e       NaN       NaN       NaN\n",
            "f -0.245117 -0.973164 -0.466334\n",
            "\n",
            " NaN-with True fill:\n",
            "\n",
            "a    False\n",
            "b     True\n",
            "c    False\n",
            "d    False\n",
            "e     True\n",
            "f    False\n",
            "Name: one, dtype: bool\n"
          ]
        }
      ]
    },
    {
      "cell_type": "code",
      "source": [
        "print(\"NaN filled with background values:\\n\")\n",
        "print(df.fillna(method=\"bfill\"))"
      ],
      "metadata": {
        "colab": {
          "base_uri": "https://localhost:8080/"
        },
        "id": "Apqixztvsi35",
        "outputId": "ab9fa7be-ff3d-41bb-f2f2-826395c709aa"
      },
      "execution_count": null,
      "outputs": [
        {
          "output_type": "stream",
          "name": "stdout",
          "text": [
            "NaN filled with background values:\n",
            "\n",
            "        one       two     three\n",
            "a -0.059474  0.396491 -0.037279\n",
            "b  0.684628 -0.903069 -0.167954\n",
            "c  0.684628 -0.903069 -0.167954\n",
            "d  0.864095  0.378199  1.164233\n",
            "e -0.245117 -0.973164 -0.466334\n",
            "f -0.245117 -0.973164 -0.466334\n"
          ]
        },
        {
          "output_type": "stream",
          "name": "stderr",
          "text": [
            "<ipython-input-7-f45a4b019cec>:2: FutureWarning: DataFrame.fillna with 'method' is deprecated and will raise in a future version. Use obj.ffill() or obj.bfill() instead.\n",
            "  print(df.fillna(method=\"bfill\"))\n"
          ]
        }
      ]
    },
    {
      "cell_type": "markdown",
      "source": [],
      "metadata": {
        "id": "yVLoTZUxv_N9"
      }
    }
  ]
}