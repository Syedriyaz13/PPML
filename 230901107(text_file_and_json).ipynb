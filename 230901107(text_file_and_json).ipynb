{
  "nbformat": 4,
  "nbformat_minor": 0,
  "metadata": {
    "colab": {
      "provenance": [],
      "authorship_tag": "ABX9TyMhBh8H7sFxXOu8chKTNFMs",
      "include_colab_link": true
    },
    "kernelspec": {
      "name": "python3",
      "display_name": "Python 3"
    },
    "language_info": {
      "name": "python"
    }
  },
  "cells": [
    {
      "cell_type": "markdown",
      "metadata": {
        "id": "view-in-github",
        "colab_type": "text"
      },
      "source": [
        "<a href=\"https://colab.research.google.com/github/Syedriyaz13/PPML_numpy/blob/main/230901107(text_file_and_json).ipynb\" target=\"_parent\"><img src=\"https://colab.research.google.com/assets/colab-badge.svg\" alt=\"Open In Colab\"/></a>"
      ]
    },
    {
      "cell_type": "code",
      "execution_count": 5,
      "metadata": {
        "id": "XsDWKuJLp2Oy"
      },
      "outputs": [],
      "source": [
        "f=open(\"/content/sample_data/syed13.txt\",\"w\")\n",
        "f.write(\"sai\\n\")\n",
        "f.write(\"raja\\n\")\n",
        "f.write(\"john\\n\")\n",
        "f.close()\n"
      ]
    },
    {
      "cell_type": "code",
      "source": [
        "a=open(\"/content/sample_data/syed13.txt\",\"r\")\n",
        "print(a.readline())\n",
        "print(a.readline())\n",
        "print(a.readline())\n",
        "a.close()"
      ],
      "metadata": {
        "colab": {
          "base_uri": "https://localhost:8080/"
        },
        "id": "T8Bg0oaitUh4",
        "outputId": "b2ce67c0-62fe-4c3b-9733-ecef7c9af814"
      },
      "execution_count": 7,
      "outputs": [
        {
          "output_type": "stream",
          "name": "stdout",
          "text": [
            "sai\n",
            "\n",
            "raja\n",
            "\n",
            "john\n",
            "\n"
          ]
        }
      ]
    },
    {
      "cell_type": "code",
      "source": [
        "b=open(\"/content/sample_data/syed13.txt\",\"a\")\n",
        "b.write(\"ram\\n\")\n",
        "b.write(\"kumar\\n\")\n",
        "b.close()\n"
      ],
      "metadata": {
        "id": "y1NASF3Mvj5W"
      },
      "execution_count": 8,
      "outputs": []
    },
    {
      "cell_type": "code",
      "source": [
        "c=open(\"/content/sample_data/syed13.txt\",\"r\")\n",
        "print(c.read())\n",
        "c.close"
      ],
      "metadata": {
        "colab": {
          "base_uri": "https://localhost:8080/"
        },
        "id": "kgCYZuT3vjwy",
        "outputId": "2cd145e3-9442-41d6-8742-2533e37175f6"
      },
      "execution_count": 9,
      "outputs": [
        {
          "output_type": "stream",
          "name": "stdout",
          "text": [
            "sai\n",
            "raja\n",
            "john\n",
            "ram\n",
            "kumar\n",
            "\n"
          ]
        },
        {
          "output_type": "execute_result",
          "data": {
            "text/plain": [
              "<function TextIOWrapper.close()>"
            ]
          },
          "metadata": {},
          "execution_count": 9
        }
      ]
    },
    {
      "cell_type": "code",
      "source": [
        "with open(\"/content/sample_data/syed13.txt\",\"r\") as file:\n",
        "  lines=file.readline()\n",
        "  print(lines)\n",
        ""
      ],
      "metadata": {
        "colab": {
          "base_uri": "https://localhost:8080/"
        },
        "id": "Bq0-MzgixP9C",
        "outputId": "4d8e366a-c165-4985-b0ab-6905c48e21c6"
      },
      "execution_count": 10,
      "outputs": [
        {
          "output_type": "stream",
          "name": "stdout",
          "text": [
            "sai\n",
            "\n"
          ]
        }
      ]
    },
    {
      "cell_type": "code",
      "source": [
        "import json\n",
        "x='{\"name\":\"raj\",\"age\":\"20\",\"city\":\"london\"}'\n",
        "y=json.loads(x)\n",
        "print(y[\"city\"])\n"
      ],
      "metadata": {
        "colab": {
          "base_uri": "https://localhost:8080/"
        },
        "id": "Lm5c6sqGyDPy",
        "outputId": "a40bde17-6f22-490e-d9f2-4d0c31cd9731"
      },
      "execution_count": 12,
      "outputs": [
        {
          "output_type": "stream",
          "name": "stdout",
          "text": [
            "london\n"
          ]
        }
      ]
    },
    {
      "cell_type": "code",
      "source": [
        "x='{\"name\":\"raj\",\"age\":\"20\",\"city\":\"london\"}'\n",
        "y=json.dumps(x)\n",
        "print(y)"
      ],
      "metadata": {
        "colab": {
          "base_uri": "https://localhost:8080/"
        },
        "id": "dZJ3vqvayQ6F",
        "outputId": "086efa32-55b6-48b7-a893-b005e2b63f4d"
      },
      "execution_count": 14,
      "outputs": [
        {
          "output_type": "stream",
          "name": "stdout",
          "text": [
            "\"{\\\"name\\\":\\\"raj\\\",\\\"age\\\":\\\"20\\\",\\\"city\\\":\\\"london\\\"}\"\n"
          ]
        }
      ]
    }
  ]
}