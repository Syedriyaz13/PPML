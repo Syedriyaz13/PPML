{
  "nbformat": 4,
  "nbformat_minor": 0,
  "metadata": {
    "colab": {
      "provenance": [],
      "authorship_tag": "ABX9TyMwTEHG4hgL31pd0DTplfqY",
      "include_colab_link": true
    },
    "kernelspec": {
      "name": "python3",
      "display_name": "Python 3"
    },
    "language_info": {
      "name": "python"
    }
  },
  "cells": [
    {
      "cell_type": "markdown",
      "metadata": {
        "id": "view-in-github",
        "colab_type": "text"
      },
      "source": [
        "<a href=\"https://colab.research.google.com/github/Syedriyaz13/PPML_numpy/blob/main/Data_cleaning_and_preparation_excel.ipynb\" target=\"_parent\"><img src=\"https://colab.research.google.com/assets/colab-badge.svg\" alt=\"Open In Colab\"/></a>"
      ]
    },
    {
      "cell_type": "code",
      "execution_count": null,
      "metadata": {
        "colab": {
          "base_uri": "https://localhost:8080/"
        },
        "id": "XPXoI4shvlVt",
        "outputId": "8b37e0bf-653a-4191-b8aa-b593fe2dcfb6"
      },
      "outputs": [
        {
          "output_type": "stream",
          "name": "stdout",
          "text": [
            "original data :\n",
            "\n",
            "    Emp ID Name Prefix First Name  ...       Mother's Name  \\\n",
            "0   677509        Drs.       Lois  ...        Helen Walker   \n",
            "1   940761         Ms.     Brenda  ...       Judy Robinson   \n",
            "2   428945         Dr.        Joe  ...  Stephanie Robinson   \n",
            "3   408351        Drs.      Diane  ...      Michelle Evans   \n",
            "4   193819         Mr.   Benjamin  ...   Elizabeth Russell   \n",
            "5   499687         Mr.    Patrick  ...        Laura Bailey   \n",
            "6   539712         Ms.      Nancy  ...          Judy Baker   \n",
            "7   380086        Mrs.      Carol  ...    Katherine Murphy   \n",
            "8   477616        Hon.    Frances  ...       Lillian Young   \n",
            "9   162402        Hon.      Diana  ...  Christina Peterson   \n",
            "10  231469         Mr.      Ralph  ...     Michelle Flores   \n",
            "11  153989       Prof.       Jack  ...    Sharon Alexander   \n",
            "12  386158        Mrs.    Melissa  ...          Maria King   \n",
            "13  301576        Hon.      Wayne  ...     Margaret Watson   \n",
            "14  441771        Mrs.     Cheryl  ...          Lois Scott   \n",
            "15  528509        Hon.      Paula  ...        Kathryn Diaz   \n",
            "16  912990         Mr.     Joshua  ...      Martha Stewart   \n",
            "17  214352         Ms.    Theresa  ...         Rebecca Lee   \n",
            "18  890290        Hon.      Julia  ...           Amy Scott   \n",
            "\n",
            "   Mother's Maiden Name    Salary  \n",
            "0                 Lewis  130121.0  \n",
            "1                 Perry   51063.0  \n",
            "2                Taylor   50155.0  \n",
            "3                 Allen  130121.0  \n",
            "4                Nelson       NaN  \n",
            "5             Henderson   72305.0  \n",
            "6                Thomas   98189.0  \n",
            "7              Peterson   60918.0  \n",
            "8                  Diaz  130121.0  \n",
            "9                  Ross   43010.0  \n",
            "10                Moore       NaN  \n",
            "11               Walker   82965.0  \n",
            "12                White  166892.0  \n",
            "13                Hayes   92758.0  \n",
            "14               Watson       NaN  \n",
            "15               Powell  152654.0  \n",
            "16                Jones  184896.0  \n",
            "17               Turner  197537.0  \n",
            "18                 King  141518.0  \n",
            "\n",
            "[19 rows x 10 columns]\n"
          ]
        }
      ],
      "source": [
        "import pandas as pd\n",
        "pd.set_option(\"display.max_columns\",6)\n",
        "print(\"original data :\\n\")\n",
        "df=pd.read_excel(\"/content/employee details 107.xlsx\")\n",
        "print(df)"
      ]
    },
    {
      "cell_type": "code",
      "source": [
        "f=df['First Name'].str.strip()\n",
        "f.to_excel(\"/content/employee details 107.xlsx\")\n",
        "print(\"\\n Replace value\")\n",
        "k=df.fillna(method='pad')\n",
        "print(k)\n",
        "print(\"\\n updated list\\n\")\n",
        "k.to_excel(\"/content/employee details 107.xlsx\")\n"
      ],
      "metadata": {
        "colab": {
          "base_uri": "https://localhost:8080/"
        },
        "id": "Wlaw1DcMw6d5",
        "outputId": "0ccf2174-e842-486c-ce30-b5b07459f44b"
      },
      "execution_count": null,
      "outputs": [
        {
          "output_type": "stream",
          "name": "stdout",
          "text": [
            "\n",
            " Replace value\n",
            "    Emp ID Name Prefix First Name  ...       Mother's Name  \\\n",
            "0   677509        Drs.       Lois  ...        Helen Walker   \n",
            "1   940761         Ms.     Brenda  ...       Judy Robinson   \n",
            "2   428945         Dr.        Joe  ...  Stephanie Robinson   \n",
            "3   408351        Drs.      Diane  ...      Michelle Evans   \n",
            "4   193819         Mr.   Benjamin  ...   Elizabeth Russell   \n",
            "5   499687         Mr.    Patrick  ...        Laura Bailey   \n",
            "6   539712         Ms.      Nancy  ...          Judy Baker   \n",
            "7   380086        Mrs.      Carol  ...    Katherine Murphy   \n",
            "8   477616        Hon.    Frances  ...       Lillian Young   \n",
            "9   162402        Hon.      Diana  ...  Christina Peterson   \n",
            "10  231469         Mr.      Ralph  ...     Michelle Flores   \n",
            "11  153989       Prof.       Jack  ...    Sharon Alexander   \n",
            "12  386158        Mrs.    Melissa  ...          Maria King   \n",
            "13  301576        Hon.      Wayne  ...     Margaret Watson   \n",
            "14  441771        Mrs.     Cheryl  ...          Lois Scott   \n",
            "15  528509        Hon.      Paula  ...        Kathryn Diaz   \n",
            "16  912990         Mr.     Joshua  ...      Martha Stewart   \n",
            "17  214352         Ms.    Theresa  ...         Rebecca Lee   \n",
            "18  890290        Hon.      Julia  ...           Amy Scott   \n",
            "\n",
            "   Mother's Maiden Name    Salary  \n",
            "0                 Lewis  130121.0  \n",
            "1                 Perry   51063.0  \n",
            "2                Taylor   50155.0  \n",
            "3                 Allen  130121.0  \n",
            "4                Nelson  130121.0  \n",
            "5             Henderson   72305.0  \n",
            "6                Thomas   98189.0  \n",
            "7              Peterson   60918.0  \n",
            "8                  Diaz  130121.0  \n",
            "9                  Ross   43010.0  \n",
            "10                Moore   43010.0  \n",
            "11               Walker   82965.0  \n",
            "12                White  166892.0  \n",
            "13                Hayes   92758.0  \n",
            "14               Watson   92758.0  \n",
            "15               Powell  152654.0  \n",
            "16                Jones  184896.0  \n",
            "17               Turner  197537.0  \n",
            "18                 King  141518.0  \n",
            "\n",
            "[19 rows x 10 columns]\n",
            "\n",
            " updated list\n",
            "\n"
          ]
        },
        {
          "output_type": "stream",
          "name": "stderr",
          "text": [
            "<ipython-input-8-55eea5d11be9>:4: FutureWarning: DataFrame.fillna with 'method' is deprecated and will raise in a future version. Use obj.ffill() or obj.bfill() instead.\n",
            "  k=df.fillna(method='pad')\n"
          ]
        }
      ]
    },
    {
      "cell_type": "code",
      "source": [
        "print(\"\\n Drop one particular column and its values:\\n\")\n",
        "k.drop(['Last Name'],axis=1,inplace=True)\n",
        "print(k)\n",
        "print(\"\\n updated list\\n\")\n",
        "k.to_excel(\"/content/employee details 107.xlsx\")"
      ],
      "metadata": {
        "colab": {
          "base_uri": "https://localhost:8080/"
        },
        "id": "HAvIEH8y5JHc",
        "outputId": "a1d3546a-1376-4d7a-fb06-5d307705ae94"
      },
      "execution_count": null,
      "outputs": [
        {
          "output_type": "stream",
          "name": "stdout",
          "text": [
            "\n",
            " Drop one particular column and its values:\n",
            "\n",
            "   Name Prefix First Name                        E Mail  ...  \\\n",
            "0         Drs.       Lois       lois.walker@hotmail.com  ...   \n",
            "1          Ms.     Brenda     brenda.robinson@gmail.com  ...   \n",
            "2          Dr.        Joe        joe.robinson@gmail.com  ...   \n",
            "3         Drs.      Diane         diane.evans@yahoo.com  ...   \n",
            "4          Mr.   Benjamin  benjamin.russell@charter.net  ...   \n",
            "5          Mr.    Patrick        patrick.bailey@aol.com  ...   \n",
            "6          Ms.      Nancy            nancy.baker@bp.com  ...   \n",
            "7         Mrs.      Carol        carol.murphy@gmail.com  ...   \n",
            "8         Hon.    Frances       frances.young@gmail.com  ...   \n",
            "9         Hon.      Diana  diana.peterson@hotmail.co.uk  ...   \n",
            "10         Mr.      Ralph        ralph.flores@yahoo.com  ...   \n",
            "11       Prof.       Jack      jack.alexander@gmail.com  ...   \n",
            "12        Mrs.    Melissa      melissa.king@comcast.net  ...   \n",
            "13        Hon.      Wayne        wayne.watson@gmail.com  ...   \n",
            "14        Mrs.     Cheryl        cheryl.scott@gmail.com  ...   \n",
            "15        Hon.      Paula          paula.diaz@gmail.com  ...   \n",
            "16         Mr.     Joshua       joshua.stewart@yahoo.ca  ...   \n",
            "17         Ms.    Theresa         theresa.lee@gmail.com  ...   \n",
            "18        Hon.      Julia         julia.scott@apple.com  ...   \n",
            "\n",
            "         Mother's Name Mother's Maiden Name    Salary  \n",
            "0         Helen Walker                Lewis  130121.0  \n",
            "1        Judy Robinson                Perry   51063.0  \n",
            "2   Stephanie Robinson               Taylor   50155.0  \n",
            "3       Michelle Evans                Allen  130121.0  \n",
            "4    Elizabeth Russell               Nelson  130121.0  \n",
            "5         Laura Bailey            Henderson   72305.0  \n",
            "6           Judy Baker               Thomas   98189.0  \n",
            "7     Katherine Murphy             Peterson   60918.0  \n",
            "8        Lillian Young                 Diaz  130121.0  \n",
            "9   Christina Peterson                 Ross   43010.0  \n",
            "10     Michelle Flores                Moore   43010.0  \n",
            "11    Sharon Alexander               Walker   82965.0  \n",
            "12          Maria King                White  166892.0  \n",
            "13     Margaret Watson                Hayes   92758.0  \n",
            "14          Lois Scott               Watson   92758.0  \n",
            "15        Kathryn Diaz               Powell  152654.0  \n",
            "16      Martha Stewart                Jones  184896.0  \n",
            "17         Rebecca Lee               Turner  197537.0  \n",
            "18           Amy Scott                 King  141518.0  \n",
            "\n",
            "[19 rows x 7 columns]\n",
            "\n",
            " updated list\n",
            "\n"
          ]
        }
      ]
    }
  ]
}