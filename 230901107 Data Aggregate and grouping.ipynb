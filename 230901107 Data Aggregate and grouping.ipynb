{
 "cells": [
  {
   "cell_type": "code",
   "execution_count": 21,
   "id": "db425079-c654-408f-9bf7-48f66d312c1c",
   "metadata": {},
   "outputs": [
    {
     "name": "stdout",
     "output_type": "stream",
     "text": [
      "\n",
      " Original DataFrame:\n",
      "       Name Category  Value  Score\n",
      "0    Alice        A      2     95\n",
      "1      Bob        B      3     60\n",
      "2  Charlie        C      1     82\n",
      "3    Alice        A      4     65\n",
      "4      Bob        B      3     69\n",
      "5  Charlie        C      3     99\n",
      "\n",
      " Group and Aggregrate with one column:\n",
      "       Name  Value\n",
      "0    Alice      6\n",
      "1      Bob      6\n",
      "2  Charlie      4\n"
     ]
    }
   ],
   "source": [
    "\n",
    "import numpy as np\n",
    "import pandas as pd\n",
    "df=pd.DataFrame({'Name':['Alice','Bob','Charlie','Alice','Bob','Charlie'],\n",
    "                 'Category':['A','B','C','A','B','C'],\n",
    "                 'Value':np.random.randint(1,5,size=6),\n",
    "                 'Score':np.random.randint(60,100,size=6)})\n",
    "print(\"\\n Original DataFrame:\\n\",df)\n",
    "df1=df.groupby(('Name'),as_index=False)['Value'].sum()\n",
    "print(\"\\n Group and Aggregrate with one column:\\n\",df1)"
   ]
  },
  {
   "cell_type": "code",
   "execution_count": 25,
   "id": "44c3ec01-34c8-48aa-af3e-cafbcbeb8c10",
   "metadata": {},
   "outputs": [
    {
     "name": "stdout",
     "output_type": "stream",
     "text": [
      "\n",
      " Group and aggregate with two column sum:\n",
      "       Name  Value  Score\n",
      "0    Alice      6    160\n",
      "1      Bob      6    129\n",
      "2  Charlie      4    181\n"
     ]
    }
   ],
   "source": [
    "\n",
    "import numpy as np\n",
    "import pandas as pd\n",
    "df=pd.DataFrame({'Name':['Alice','Bob','Charlie','Alice','Bob','Charlie'],\n",
    "                 'Category':['A','B','C','A','B','C'],\n",
    "                 'Value':np.random.randint(1,5,size=6),\n",
    "                 'Score':np.random.randint(60,100,size=6)})\n",
    "print(\"\\n Original DataFrame:\\n\",df)\n",
    "df1=df.groupby(('Name'),as_index=False)['Value'].sum()\n",
    "print(\"\\n Group and Aggregrate with one column:\\n\",df1)"
   ]
  },
  {
   "cell_type": "code",
   "execution_count": 31,
   "id": "d919aa0a-103d-4eb3-b6e0-3e8a95024bcf",
   "metadata": {},
   "outputs": [
    {
     "name": "stdout",
     "output_type": "stream",
     "text": [
      "\n",
      " Group and Aggregrate with one column:\n",
      "       Name  Value\n",
      "0    Alice      6\n",
      "1      Bob      6\n",
      "2  Charlie      4\n"
     ]
    }
   ],
   "source": [
    "df3=df.groupby(('Name'),as_index=False)['Value'].agg('sum')\n",
    "print(\"\\n Group and Aggregrate with one column:\\n\",df3)\n"
   ]
  },
  {
   "cell_type": "code",
   "execution_count": 35,
   "id": "c9381eb7-c28d-465d-a5a7-7cd04a91954b",
   "metadata": {},
   "outputs": [
    {
     "name": "stdout",
     "output_type": "stream",
     "text": [
      "\n",
      " Group by name and multiple aggregation:\n",
      "         Value              Score      \n",
      "          sum mean min max   sum  mean\n",
      "Name                                  \n",
      "Alice       6  3.0   2   4   160  80.0\n",
      "Bob         6  3.0   3   3   129  64.5\n",
      "Charlie     4  2.0   1   3   181  90.5\n"
     ]
    }
   ],
   "source": [
    "df4=df.groupby('Name').agg({'Value':['sum','mean','min','max'],\n",
    "                            'Score':['sum','mean']})\n",
    "print(\"\\n Group by name and multiple aggregation:\\n\",df4)\n"
   ]
  },
  {
   "cell_type": "code",
   "execution_count": 43,
   "id": "07cef0e4-d0c5-4136-8ece-47df36c0b631",
   "metadata": {},
   "outputs": [
    {
     "name": "stdout",
     "output_type": "stream",
     "text": [
      "\n",
      " Group and count\n",
      "       Name  Value\n",
      "0    Alice      2\n",
      "1      Bob      2\n",
      "2  Charlie      2\n"
     ]
    }
   ],
   "source": [
    "df5=df.groupby(('Name'),as_index=False)['Value'].count()\n",
    "print(\"\\n Group and count\\n\",df5)"
   ]
  },
  {
   "cell_type": "code",
   "execution_count": 45,
   "id": "8dc68ea7-a7a7-436b-b4b2-49f09ea9c13f",
   "metadata": {},
   "outputs": [
    {
     "name": "stdout",
     "output_type": "stream",
     "text": [
      "\n",
      " Group and Count:\n",
      "          Category  Value  Score\n",
      "Name                           \n",
      "Alice           2      2      2\n",
      "Bob             2      2      2\n",
      "Charlie         2      2      2\n"
     ]
    }
   ],
   "source": [
    "df6=df.groupby(('Name')).count()\n",
    "print(\"\\n Group and Count:\\n\",df6)"
   ]
  },
  {
   "cell_type": "code",
   "execution_count": 47,
   "id": "74bc8b91-775f-4c60-938f-1161d329963b",
   "metadata": {},
   "outputs": [
    {
     "name": "stdout",
     "output_type": "stream",
     "text": [
      "\n",
      " Group and display from first:\n",
      "       Name  Value\n",
      "0    Alice      2\n",
      "1      Bob      3\n",
      "2  Charlie      1\n"
     ]
    }
   ],
   "source": [
    "df7=df.groupby(('Name'),as_index=False)['Value'].first()\n",
    "print(\"\\n Group and display from first:\\n\",df7)\n"
   ]
  },
  {
   "cell_type": "code",
   "execution_count": 53,
   "id": "3fff462d-8d60-4fd7-8600-6e590f3429bf",
   "metadata": {},
   "outputs": [
    {
     "name": "stdout",
     "output_type": "stream",
     "text": [
      "\n",
      " Group and display from first:\n",
      "         Category  Value  Score\n",
      "Name                          \n",
      "Alice          A      2     95\n",
      "Bob            B      3     60\n",
      "Charlie        C      1     82\n"
     ]
    }
   ],
   "source": [
    "df8=df.groupby(('Name')).first()\n",
    "print(\"\\n Group and display from first:\\n\",df8)"
   ]
  },
  {
   "cell_type": "code",
   "execution_count": 55,
   "id": "dd548507-ffcb-4edd-b6b5-42d549676656",
   "metadata": {},
   "outputs": [
    {
     "name": "stdout",
     "output_type": "stream",
     "text": [
      "\n",
      " Group and display from last:\n",
      "       Name  Value\n",
      "0    Alice      4\n",
      "1      Bob      3\n",
      "2  Charlie      3\n"
     ]
    }
   ],
   "source": [
    "df9=df.groupby(('Name'),as_index=False)['Value'].last()\n",
    "print(\"\\n Group and display from last:\\n\",df9)"
   ]
  },
  {
   "cell_type": "code",
   "execution_count": 59,
   "id": "405a8b6d-c5d1-4a32-9fd8-da6726e2d6bf",
   "metadata": {},
   "outputs": [
    {
     "name": "stdout",
     "output_type": "stream",
     "text": [
      "\n",
      " Group and display from last:\n",
      "         Category  Value  Score\n",
      "Name                          \n",
      "Alice          A      4     65\n",
      "Bob            B      3     69\n",
      "Charlie        C      3     99\n"
     ]
    }
   ],
   "source": [
    "df10=df.groupby(('Name')).last()\n",
    "print(\"\\n Group and display from last:\\n\",df10)"
   ]
  },
  {
   "cell_type": "code",
   "execution_count": 63,
   "id": "a2ece193-ce81-4987-b613-b51d09bc2420",
   "metadata": {},
   "outputs": [
    {
     "name": "stdout",
     "output_type": "stream",
     "text": [
      "\n",
      " Group and display size:\n",
      "       Name  size\n",
      "0    Alice     2\n",
      "1      Bob     2\n",
      "2  Charlie     2\n"
     ]
    }
   ],
   "source": [
    "df11=df.groupby(('Name'),as_index=False)['Value'].size()\n",
    "print(\"\\n Group and display size:\\n\",df11)"
   ]
  },
  {
   "cell_type": "code",
   "execution_count": 65,
   "id": "7688de47-fe55-45d4-b103-643d52d8db93",
   "metadata": {},
   "outputs": [
    {
     "name": "stdout",
     "output_type": "stream",
     "text": [
      "\n",
      " Group and display size:\n",
      " Name\n",
      "Alice      2\n",
      "Bob        2\n",
      "Charlie    2\n",
      "dtype: int64\n"
     ]
    }
   ],
   "source": [
    "df12=df.groupby(('Name')).size()\n",
    "print(\"\\n Group and display size:\\n\",df12)"
   ]
  },
  {
   "cell_type": "code",
   "execution_count": null,
   "id": "2ce09114-d1a3-499c-87c5-f1657d0eb5fc",
   "metadata": {},
   "outputs": [],
   "source": []
  }
 ],
 "metadata": {
  "kernelspec": {
   "display_name": "Python 3 (ipykernel)",
   "language": "python",
   "name": "python3"
  },
  "language_info": {
   "codemirror_mode": {
    "name": "ipython",
    "version": 3
   },
   "file_extension": ".py",
   "mimetype": "text/x-python",
   "name": "python",
   "nbconvert_exporter": "python",
   "pygments_lexer": "ipython3",
   "version": "3.12.4"
  }
 },
 "nbformat": 4,
 "nbformat_minor": 5
}
